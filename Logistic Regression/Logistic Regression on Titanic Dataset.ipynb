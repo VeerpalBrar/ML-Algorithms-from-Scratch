{
 "cells": [
  {
   "cell_type": "markdown",
   "metadata": {},
   "source": [
    "### Logistic Regression from Scratch"
   ]
  },
  {
   "cell_type": "code",
   "execution_count": 1,
   "metadata": {
    "collapsed": false,
    "scrolled": true
   },
   "outputs": [
    {
     "data": {
      "text/html": [
       "<div>\n",
       "<table border=\"1\" class=\"dataframe\">\n",
       "  <thead>\n",
       "    <tr style=\"text-align: right;\">\n",
       "      <th></th>\n",
       "      <th>Unnamed: 0</th>\n",
       "      <th>Survived</th>\n",
       "      <th>Pclass</th>\n",
       "      <th>Name</th>\n",
       "      <th>Sex</th>\n",
       "      <th>Age</th>\n",
       "      <th>SibSp</th>\n",
       "      <th>Parch</th>\n",
       "      <th>Fare</th>\n",
       "      <th>Embarked</th>\n",
       "    </tr>\n",
       "  </thead>\n",
       "  <tbody>\n",
       "    <tr>\n",
       "      <th>0</th>\n",
       "      <td>0</td>\n",
       "      <td>0</td>\n",
       "      <td>3</td>\n",
       "      <td>0.047419</td>\n",
       "      <td>0</td>\n",
       "      <td>-0.091642</td>\n",
       "      <td>1</td>\n",
       "      <td>0</td>\n",
       "      <td>-0.048707</td>\n",
       "      <td>2</td>\n",
       "    </tr>\n",
       "    <tr>\n",
       "      <th>1</th>\n",
       "      <td>1</td>\n",
       "      <td>1</td>\n",
       "      <td>1</td>\n",
       "      <td>0.109919</td>\n",
       "      <td>1</td>\n",
       "      <td>0.109413</td>\n",
       "      <td>1</td>\n",
       "      <td>0</td>\n",
       "      <td>0.076277</td>\n",
       "      <td>0</td>\n",
       "    </tr>\n",
       "    <tr>\n",
       "      <th>2</th>\n",
       "      <td>2</td>\n",
       "      <td>1</td>\n",
       "      <td>3</td>\n",
       "      <td>-0.140081</td>\n",
       "      <td>1</td>\n",
       "      <td>-0.041378</td>\n",
       "      <td>0</td>\n",
       "      <td>0</td>\n",
       "      <td>-0.047390</td>\n",
       "      <td>2</td>\n",
       "    </tr>\n",
       "    <tr>\n",
       "      <th>3</th>\n",
       "      <td>3</td>\n",
       "      <td>1</td>\n",
       "      <td>1</td>\n",
       "      <td>0.109919</td>\n",
       "      <td>1</td>\n",
       "      <td>0.071716</td>\n",
       "      <td>1</td>\n",
       "      <td>0</td>\n",
       "      <td>0.040786</td>\n",
       "      <td>2</td>\n",
       "    </tr>\n",
       "    <tr>\n",
       "      <th>4</th>\n",
       "      <td>4</td>\n",
       "      <td>0</td>\n",
       "      <td>3</td>\n",
       "      <td>0.047419</td>\n",
       "      <td>0</td>\n",
       "      <td>0.071716</td>\n",
       "      <td>0</td>\n",
       "      <td>0</td>\n",
       "      <td>-0.047146</td>\n",
       "      <td>2</td>\n",
       "    </tr>\n",
       "  </tbody>\n",
       "</table>\n",
       "</div>"
      ],
      "text/plain": [
       "   Unnamed: 0  Survived  Pclass      Name  Sex       Age  SibSp  Parch  \\\n",
       "0           0         0       3  0.047419    0 -0.091642      1      0   \n",
       "1           1         1       1  0.109919    1  0.109413      1      0   \n",
       "2           2         1       3 -0.140081    1 -0.041378      0      0   \n",
       "3           3         1       1  0.109919    1  0.071716      1      0   \n",
       "4           4         0       3  0.047419    0  0.071716      0      0   \n",
       "\n",
       "       Fare  Embarked  \n",
       "0 -0.048707         2  \n",
       "1  0.076277         0  \n",
       "2 -0.047390         2  \n",
       "3  0.040786         2  \n",
       "4 -0.047146         2  "
      ]
     },
     "execution_count": 1,
     "metadata": {},
     "output_type": "execute_result"
    }
   ],
   "source": [
    "import numpy as np\n",
    "import pandas as pd\n",
    "import matplotlib.pyplot as plt\n",
    "import scipy.optimize as opt\n",
    "\n",
    "#get training data\n",
    "data_train = pd.read_csv('features.csv') #this is preprocessed data\n",
    "\n",
    "data_train.head()"
   ]
  },
  {
   "cell_type": "code",
   "execution_count": 2,
   "metadata": {
    "collapsed": true
   },
   "outputs": [],
   "source": [
    "data_train.insert(0, 'Ones', 1) # add column of ones for matrix multiplication later"
   ]
  },
  {
   "cell_type": "code",
   "execution_count": 3,
   "metadata": {
    "collapsed": false
   },
   "outputs": [],
   "source": [
    "train=data_train.sample(frac=0.8,random_state=200)\n",
    "cross=data_train.drop(train.index)\n",
    "# make training data in to matrix\n",
    "y_t = train['Survived']\n",
    "X_t = train.drop(\"Survived\",axis=1)\n",
    "\n",
    "Y = y_t.values\n",
    "X_temp = X_t.values\n",
    "m, n = X_temp.shape\n",
    "X=np.ones((m,n+1))\n",
    "\n",
    "X[:,-n:] = X_temp\n",
    "Y.shape = (m, 1)\n",
    "\n",
    "# make cross validation data into matrix\n",
    "crossy_t = cross['Survived']\n",
    "crossX_t = cross.drop(\"Survived\",axis=1)\n",
    "\n",
    "crossY = crossy_t.values\n",
    "crossX_temp = crossX_t.values\n",
    "crossm, crossn = crossX_temp.shape\n",
    "crossX=np.ones((crossm,crossn+1))\n",
    "\n",
    "crossX[:,-crossn:] = crossX_temp\n",
    "crossY.shape = (crossm, 1)\n",
    "\n",
    "#initalize theta\n",
    "theta = np.zeros(shape=(n+1, 1))\n",
    "lambd=1"
   ]
  },
  {
   "cell_type": "markdown",
   "metadata": {},
   "source": [
    "In logistic funcition we want to have values between 0 and 1. For this the hypothesis is:\n",
    "![h(x) = g(theta*x)](hypothesis.png)\n",
    "\n",
    "Where:\n",
    "![g(z) = 1 over 1 + e to the negative z](sigmoid.png)\n",
    "\n",
    "The hypothesis uses the sigmoid function to return a value between 1 or 0.  "
   ]
  },
  {
   "cell_type": "code",
   "execution_count": 4,
   "metadata": {
    "collapsed": false
   },
   "outputs": [],
   "source": [
    "# compute sigmoid function\n",
    "def sigmoid(z):\n",
    "     return 1.0 / (1.0 + np.e ** (-1.0 * z))"
   ]
  },
  {
   "cell_type": "markdown",
   "metadata": {},
   "source": [
    "Next, we want to compute a cost function. What the cost function does is determine the error between the predicted value and the actual value. But minimizing the cost function, we minmize the error (aka we will be getting better perdictions!)\n",
    "\n",
    "The cost function is: \n",
    "![cost-function](cost-function.png)\n",
    "\n",
    "where the superscript i represents the ith example, and m is the total number of examples. "
   ]
  },
  {
   "cell_type": "code",
   "execution_count": 5,
   "metadata": {
    "collapsed": false,
    "scrolled": true
   },
   "outputs": [
    {
     "name": "stdout",
     "output_type": "stream",
     "text": [
      "0.69314718056\n"
     ]
    }
   ],
   "source": [
    "def cost_function(theta, X, Y):\n",
    "    '''Determine the cost. \n",
    "    theta is an array holding parameters.\n",
    "    X is the input features. \n",
    "    Y is the actual classification. '''\n",
    "    hypothesis =sigmoid(X.dot(theta).T)\n",
    "    first_half =-Y.T.dot(np.log(hypothesis.T))\n",
    "    second_half = (1-Y).T.dot(np.log(1-hypothesis.T))\n",
    "\n",
    "    overall_cost = (1.0/m)*sum(first_half - second_half)\n",
    "    #this is a vectorized implementation of the cost function\n",
    "    #therefore 'overall_cost' is a single element matrix with the total cost\n",
    "    \n",
    "    #this next line just converts it to an integer value\n",
    "    #print(overall_cost)\n",
    "    return np.sum(overall_cost) \n",
    "print(cost_function(theta, X, Y))"
   ]
  },
  {
   "cell_type": "markdown",
   "metadata": {},
   "source": [
    "The cost function calculate the error of a given theta. We want to minimize the cost (ie error) as much as possible and find the best possible theta parameters. \n",
    "\n",
    "Therefore, for each parameter, we calculate the gradient and then adjust the parameter by that gradient. \n",
    "\n",
    "NOTE: Remember that the cost function is a convex function and we are looking for the local minimum. The gradient always points in the direction of greatest change, and so by finding and moving is the direction of the gradient, we move closer to the minimum. \n",
    "\n",
    "To calculate the gradient for parameter j, we use:\n",
    "![gradient](gradient.png)"
   ]
  },
  {
   "cell_type": "code",
   "execution_count": 6,
   "metadata": {
    "collapsed": false
   },
   "outputs": [],
   "source": [
    "def gradient(theta, X, Y):\n",
    "    hypothesis =sigmoid(X.dot(theta).T)\n",
    "    error = (hypothesis - Y)\n",
    "    grad = np.zeros(X.shape[1])\n",
    "    \n",
    "    \n",
    "    #calculate the gradient for each parameter\n",
    "    for i in range(X.shape[1]):\n",
    "        grad[i] = (1.0/m)*sum((error).T.dot(X[:,i]))\n",
    "        \n",
    "    #print(grad)\n",
    "    return np.matrix(grad)\n",
    "#gradient(theta, X, Y, lambd)"
   ]
  },
  {
   "cell_type": "markdown",
   "metadata": {},
   "source": [
    "The above code does not execute gradient decent. Rather it executes one step of gradient decent. \n",
    "\n",
    "To do gradient decent, we will use an optimization function from the scipy library which will repeatedly call the cost function, trying to minimize it, while using a gradient function to determine how to minimize cost. "
   ]
  },
  {
   "cell_type": "code",
   "execution_count": 7,
   "metadata": {
    "collapsed": true
   },
   "outputs": [],
   "source": [
    "def train(theta, X, Y):\n",
    "    Result = opt.minimize(fun = cost_function, x0 = theta, args = (X, Y), method = 'TNC');\n",
    "    optimal_theta = Result.x;\n",
    "    return optimal_theta"
   ]
  },
  {
   "cell_type": "markdown",
   "metadata": {
    "collapsed": true
   },
   "source": [
    "The last thing remaining is to predict survivors from test data. We create a function which uses the optimized theta with test features and see if it predicts the outcome correctly. We will say that when the sigmoid function returns a value greater than 0.5, it is predicting survival. Otherwise, it predicts the person did not survive. "
   ]
  },
  {
   "cell_type": "code",
   "execution_count": 8,
   "metadata": {
    "collapsed": true
   },
   "outputs": [],
   "source": [
    "def predict(theta, X):\n",
    "    # Predicts the survival (0 or 1) based on learned logistic regression data\n",
    "    h = sigmoid(X.dot(theta))\n",
    "    pred = np.zeros(shape=(h.shape[0], 1))\n",
    "    for i in range(0, h.shape[0]):\n",
    "        if h[i] > 0.5:\n",
    "            pred[i] = 1\n",
    "        else:\n",
    "            pred[i] = 0\n",
    "    return pred"
   ]
  },
  {
   "cell_type": "markdown",
   "metadata": {},
   "source": [
    "Lets prepare the test data matricies and begin predicting!"
   ]
  },
  {
   "cell_type": "code",
   "execution_count": 9,
   "metadata": {
    "collapsed": false
   },
   "outputs": [
    {
     "name": "stdout",
     "output_type": "stream",
     "text": [
      "test accuracy:  80.5049088359\n",
      "cross accuracy:  76.9662921348\n"
     ]
    }
   ],
   "source": [
    "optimal_theta = train(theta, X, Y, )\n",
    "p = predict(np.array(optimal_theta), X)\n",
    "t = (p == Y)\n",
    "print (\"test accuracy: \",np.mean(t)*100)\n",
    "\n",
    "y_test = predict(np.array(optimal_theta), crossX) \n",
    "crosst = (y_test == crossY)\n",
    "\n",
    "print (\"cross accuracy: \", np.mean(crosst)*100)"
   ]
  },
  {
   "cell_type": "markdown",
   "metadata": {},
   "source": [
    "We can use learning curves to showcase how well logistic regression performs on both the training set and the cross validation set as you add more examples. "
   ]
  },
  {
   "cell_type": "code",
   "execution_count": 10,
   "metadata": {
    "collapsed": false,
    "scrolled": true
   },
   "outputs": [
    {
     "name": "stderr",
     "output_type": "stream",
     "text": [
      "C:\\Users\\Veerpal\\Anaconda3\\lib\\site-packages\\ipykernel\\__main__.py:8: RuntimeWarning: divide by zero encountered in log\n",
      "C:\\Users\\Veerpal\\Anaconda3\\lib\\site-packages\\scipy\\optimize\\optimize.py:628: RuntimeWarning: invalid value encountered in double_scalars\n",
      "  grad[k] = (f(*((xk + d,) + args)) - f0) / d[k]\n",
      "C:\\Users\\Veerpal\\Anaconda3\\lib\\site-packages\\ipykernel\\__main__.py:3: RuntimeWarning: overflow encountered in power\n",
      "  app.launch_new_instance()\n",
      "C:\\Users\\Veerpal\\Anaconda3\\lib\\site-packages\\ipykernel\\__main__.py:7: RuntimeWarning: divide by zero encountered in log\n"
     ]
    },
    {
     "data": {
      "image/png": "[encoded data removed]",
      "text/plain": [
       "<matplotlib.figure.Figure at 0x1c79fba2518>"
      ]
     },
     "metadata": {},
     "output_type": "display_data"
    }
   ],
   "source": [
    "def learningcurve(X, Y, crossX, crossY):\n",
    "    error_train = [0]*19;\n",
    "    error_val = [0]*19;\n",
    "    value = 0\n",
    "    for i in range(5, 100 , 5):\n",
    "        x1 = X[0:i, :]\n",
    "        y1 = Y[0:i,:]\n",
    "        \n",
    "        #initalize theta\n",
    "        m, n = x1.shape\n",
    "        theta = np.zeros(shape=(n, 1))\n",
    "        theta = train(theta, x1, y1)\n",
    "        \n",
    "        \n",
    "        error_train[value] = cost_function(theta,x1, y1)\n",
    "        error_val[value] = cost_function(theta, crossX, crossY)\n",
    "        value+=1 \n",
    "\n",
    "    return error_train, error_val\n",
    "train_curve, cross_curve = learningcurve(X, Y, crossX, crossY)\n",
    "plt.plot(train_curve, label=\"training\")\n",
    "plt.plot(cross_curve, label=\"cross validation\")\n",
    "plt.legend(bbox_to_anchor=(0., 1.02, 1., .102), loc=3,\n",
    "           ncol=2, mode=\"expand\", borderaxespad=0.)\n",
    "plt.ylabel('cost')\n",
    "plt.xlabel('size')\n",
    "plt.show()"
   ]
  },
  {
   "cell_type": "markdown",
   "metadata": {},
   "source": [
    "Finally, compare the logistic regression from scratch algorithm with the built in sklean function. "
   ]
  },
  {
   "cell_type": "code",
   "execution_count": 11,
   "metadata": {
    "collapsed": false
   },
   "outputs": [
    {
     "name": "stdout",
     "output_type": "stream",
     "text": [
      "Coefficients: \n",
      " [[  3.89698917e-01   3.89698917e-01   1.30949474e-04  -9.85316969e-01\n",
      "   -5.76591913e-01   2.56187102e+00  -1.86641383e+00  -3.25808497e-01\n",
      "    2.05420935e-02   5.44655008e-01  -2.17683461e-01]]\n",
      "Mean squared error: 0.46\n",
      "Variance score: 0.77\n",
      "cross accuracy: 76.9662921348\n"
     ]
    },
    {
     "name": "stderr",
     "output_type": "stream",
     "text": [
      "C:\\Users\\Veerpal\\Anaconda3\\lib\\site-packages\\sklearn\\utils\\validation.py:526: DataConversionWarning: A column-vector y was passed when a 1d array was expected. Please change the shape of y to (n_samples, ), for example using ravel().\n",
      "  y = column_or_1d(y, warn=True)\n"
     ]
    }
   ],
   "source": [
    "from sklearn import linear_model\n",
    "# Create linear regression object\n",
    "regr = linear_model.LogisticRegression()\n",
    "\n",
    "# Train the model using the training sets\n",
    "\n",
    "regr.fit(X, Y)\n",
    "\n",
    "# The coefficients\n",
    "print('Coefficients: \\n', regr.coef_)\n",
    "# The mean squared error\n",
    "print(\"Mean squared error: %.2f\"\n",
    "      % np.mean((regr.predict(crossX) - crossY) ** 2))\n",
    "# Explained variance score: 1 is perfect prediction\n",
    "print('Variance score: %.2f' % regr.score(crossX, crossY))\n",
    "p = np.matrix(regr.predict(crossX))\n",
    "t = (p == crossY.T)\n",
    "print (\"cross accuracy:\", np.mean(t)*100)\n"
   ]
  },
  {
   "cell_type": "markdown",
   "metadata": {},
   "source": [
    "The accurage score is the same!"
   ]
  },
  {
   "cell_type": "code",
   "execution_count": null,
   "metadata": {
    "collapsed": true
   },
   "outputs": [],
   "source": []
  }
 ],
 "metadata": {
  "kernelspec": {
   "display_name": "Python 3",
   "language": "python",
   "name": "python3"
  },
  "language_info": {
   "codemirror_mode": {
    "name": "ipython",
    "version": 3
   },
   "file_extension": ".py",
   "mimetype": "text/x-python",
   "name": "python",
   "nbconvert_exporter": "python",
   "pygments_lexer": "ipython3",
   "version": "3.6.0"
  }
 },
 "nbformat": 4,
 "nbformat_minor": 2
}
