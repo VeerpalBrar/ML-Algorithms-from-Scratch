{
 "cells": [
  {
   "cell_type": "markdown",
   "metadata": {},
   "source": [
    "### Spam Classification using Naive Bayes"
   ]
  },
  {
   "cell_type": "code",
   "execution_count": 12,
   "metadata": {
    "collapsed": false
   },
   "outputs": [],
   "source": [
    "import numpy as np\n",
    "num_emails = 50\n",
    "num_test_emails = 260\n",
    "num_words = 2500"
   ]
  },
  {
   "cell_type": "code",
   "execution_count": 13,
   "metadata": {
    "collapsed": false
   },
   "outputs": [],
   "source": [
    "matrix = np.loadtxt('ex6DataPrepared/train-features.txt', dtype=np.int)\n",
    "train_data = np.zeros((num_emails, num_words), dtype=np.int)\n",
    "for row in matrix:\n",
    "    train_data[row[0]-1, row[1]-1] = row[2]\n",
    "    \n",
    "train_labels = np.loadtxt('ex6DataPrepared/train-labels.txt', dtype=np.int)"
   ]
  },
  {
   "cell_type": "code",
   "execution_count": 14,
   "metadata": {
    "collapsed": false
   },
   "outputs": [],
   "source": [
    "#get index of spam and nonspam\n",
    "indices_notspam = np.nonzero(train_labels == 0)[0]\n",
    "indices_spam = np.nonzero(train_labels != 0)[0]\n",
    "\n",
    "#get wordcounts of each email\n",
    "email_wordcount = np.sum(train_data, axis=1)\n",
    "\n",
    "#spam wordcount \n",
    "spam_wordcount = np.sum(email_wordcount[indices_spam])\n",
    "notspam_wordcount =  np.sum(email_wordcount[indices_notspam])"
   ]
  },
  {
   "cell_type": "code",
   "execution_count": 15,
   "metadata": {
    "collapsed": true
   },
   "outputs": [],
   "source": [
    "#calculate probability of Spam\n",
    "prob_spam = np.count_nonzero(train_labels) / num_emails"
   ]
  },
  {
   "cell_type": "code",
   "execution_count": 16,
   "metadata": {
    "collapsed": false
   },
   "outputs": [],
   "source": [
    "#calculate P(word|spam)\n",
    "prob_words_spam = np.sum(train_data[indices_spam, :], axis=0) + 1\n",
    "prob_words_spam = prob_words_spam / (spam_wordcount + num_words)"
   ]
  },
  {
   "cell_type": "code",
   "execution_count": 17,
   "metadata": {
    "collapsed": false
   },
   "outputs": [],
   "source": [
    "#calculate P(word|notspam)\n",
    "prob_words_notspam = np.sum(train_data[indices_notspam, :], axis=0) + 1\n",
    "prob_words_notspam = prob_words_notspam / (notspam_wordcount + num_words)"
   ]
  },
  {
   "cell_type": "code",
   "execution_count": 18,
   "metadata": {
    "collapsed": false
   },
   "outputs": [],
   "source": [
    "#load test data\n",
    "test_matrix = np.loadtxt('ex6DataPrepared/test-features.txt', dtype=np.int)\n",
    "test_data = np.zeros((num_test_emails, num_words), dtype=np.int)\n",
    "for row in test_matrix:\n",
    "    test_data[row[0]-1, row[1]-1] = row[2]\n",
    "    \n",
    "test_labels = np.loadtxt('ex6DataPrepared/test-labels.txt', dtype=np.int)"
   ]
  },
  {
   "cell_type": "code",
   "execution_count": 19,
   "metadata": {
    "collapsed": false
   },
   "outputs": [],
   "source": [
    "#calculate spam probability versus nonspam probability\n",
    "output = np.zeros((num_test_emails, 1));\n",
    "\n",
    "log_spam_prob = np.dot(test_data, np.log(prob_words_spam))\n",
    "log_spam_prob += np.log(prob_spam)\n",
    "\n",
    "\n",
    "log_notspam_prob = np.dot(test_data, np.log(prob_words_notspam))\n",
    "log_notspam_prob += np.log(1-prob_spam)\n",
    "\n",
    "output = log_spam_prob > log_notspam_prob"
   ]
  },
  {
   "cell_type": "code",
   "execution_count": 20,
   "metadata": {
    "collapsed": false
   },
   "outputs": [
    {
     "data": {
      "text/plain": [
       "7"
      ]
     },
     "execution_count": 20,
     "metadata": {},
     "output_type": "execute_result"
    }
   ],
   "source": [
    "#calculate error\n",
    "output = output.astype(int)\n",
    "error = np.sum(output != test_labels)\n",
    "error"
   ]
  },
  {
   "cell_type": "code",
   "execution_count": null,
   "metadata": {
    "collapsed": true
   },
   "outputs": [],
   "source": []
  }
 ],
 "metadata": {
  "kernelspec": {
   "display_name": "Python 3",
   "language": "python",
   "name": "python3"
  },
  "language_info": {
   "codemirror_mode": {
    "name": "ipython",
    "version": 3
   },
   "file_extension": ".py",
   "mimetype": "text/x-python",
   "name": "python",
   "nbconvert_exporter": "python",
   "pygments_lexer": "ipython3",
   "version": "3.6.0"
  }
 },
 "nbformat": 4,
 "nbformat_minor": 2
}
